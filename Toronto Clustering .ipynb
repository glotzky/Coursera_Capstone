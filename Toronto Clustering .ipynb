{
    "cells": [
        {
            "cell_type": "markdown",
            "metadata": {
                "collapsed": true
            },
            "source": "## Toronto Clustering - Coursera Capstone"
        },
        {
            "cell_type": "markdown",
            "metadata": {},
            "source": "##### Importing Necessary Libraries"
        },
        {
            "cell_type": "code",
            "execution_count": 2,
            "metadata": {},
            "outputs": [
                {
                    "name": "stdout",
                    "output_type": "stream",
                    "text": "Geocoders module imported.\nSolving environment: - ^C\nfailed\n\nCondaError: KeyboardInterrupt\n\n"
                },
                {
                    "ename": "ModuleNotFoundError",
                    "evalue": "No module named 'folium'",
                    "output_type": "error",
                    "traceback": [
                        "\u001b[0;31m---------------------------------------------------------------------------\u001b[0m",
                        "\u001b[0;31mModuleNotFoundError\u001b[0m                       Traceback (most recent call last)",
                        "\u001b[0;32m<ipython-input-2-f8b4665e7fe5>\u001b[0m in \u001b[0;36m<module>\u001b[0;34m\u001b[0m\n\u001b[1;32m      7\u001b[0m \u001b[0mpd\u001b[0m\u001b[0;34m.\u001b[0m\u001b[0mset_option\u001b[0m\u001b[0;34m(\u001b[0m\u001b[0;34m'display.max_rows'\u001b[0m\u001b[0;34m,\u001b[0m \u001b[0;32mNone\u001b[0m\u001b[0;34m)\u001b[0m\u001b[0;34m\u001b[0m\u001b[0;34m\u001b[0m\u001b[0m\n\u001b[1;32m      8\u001b[0m \u001b[0mget_ipython\u001b[0m\u001b[0;34m(\u001b[0m\u001b[0;34m)\u001b[0m\u001b[0;34m.\u001b[0m\u001b[0msystem\u001b[0m\u001b[0;34m(\u001b[0m\u001b[0;34m'conda install -c conda-forge folium=0.5.0 --yes'\u001b[0m\u001b[0;34m)\u001b[0m\u001b[0;34m\u001b[0m\u001b[0;34m\u001b[0m\u001b[0m\n\u001b[0;32m----> 9\u001b[0;31m \u001b[0;32mimport\u001b[0m \u001b[0mfolium\u001b[0m \u001b[0;31m# plotting library\u001b[0m\u001b[0;34m\u001b[0m\u001b[0;34m\u001b[0m\u001b[0m\n\u001b[0m\u001b[1;32m     10\u001b[0m \u001b[0mprint\u001b[0m\u001b[0;34m(\u001b[0m\u001b[0;34m'Folium Library imported.'\u001b[0m\u001b[0;34m)\u001b[0m\u001b[0;34m\u001b[0m\u001b[0;34m\u001b[0m\u001b[0m\n\u001b[1;32m     11\u001b[0m \u001b[0mprint\u001b[0m\u001b[0;34m(\u001b[0m\u001b[0;34m'Libraries imported.'\u001b[0m\u001b[0;34m)\u001b[0m\u001b[0;34m\u001b[0m\u001b[0;34m\u001b[0m\u001b[0m\n",
                        "\u001b[0;31mModuleNotFoundError\u001b[0m: No module named 'folium'"
                    ]
                }
            ],
            "source": "import numpy as np # library to handle data in a vectorized manner\nimport pandas as pd # library for data analsysis\n#!conda install -c conda-forge geopy --yes \nfrom geopy.geocoders import Nominatim # module to convert an address into latitude and longitude values\nprint('Geocoders module imported.')\npd.set_option('display.max_columns', None)\npd.set_option('display.max_rows', None)\n!conda install -c conda-forge folium=0.5.0 --yes\nimport folium # plotting library\nprint('Folium Library imported.')\nprint('Libraries imported.')"
        },
        {
            "cell_type": "markdown",
            "metadata": {},
            "source": "Import BeautifulSoup to scrape data from Wikipedia Site"
        },
        {
            "cell_type": "code",
            "execution_count": null,
            "metadata": {},
            "outputs": [],
            "source": "import urllib.request\nurl = \"https://en.wikipedia.org/wiki/List_of_postal_codes_of_Canada:_M\" #toronto clustering raw data from wikipedia\npage = urllib.request.urlopen(url)\n\n#import BeautifulSoup library to parse HTML\nfrom bs4 import BeautifulSoup\n\n#parse HTML from wikipedia url\nsoup = BeautifulSoup(page,\"lxml\")"
        },
        {
            "cell_type": "markdown",
            "metadata": {},
            "source": "Print raw html file"
        },
        {
            "cell_type": "code",
            "execution_count": null,
            "metadata": {},
            "outputs": [],
            "source": "#print(soup.prettify())"
        },
        {
            "cell_type": "markdown",
            "metadata": {},
            "source": "Set table equal to the found table within the html code"
        },
        {
            "cell_type": "code",
            "execution_count": null,
            "metadata": {},
            "outputs": [],
            "source": "table = soup.find('table', class_='wikitable sortable')\n#table"
        },
        {
            "cell_type": "markdown",
            "metadata": {},
            "source": "Sort the information into their respective columns if text is present"
        },
        {
            "cell_type": "code",
            "execution_count": null,
            "metadata": {},
            "outputs": [],
            "source": "A = []\nB = []\nC = []\n\nfor row in table.findAll('tr'):\n    cells = row.findAll('td')\n    if len(cells)==3:\n        A.append(cells[0].find(text=True))\n        B.append(cells[1].find(text=True))\n        C.append(cells[2].find(text=True))"
        },
        {
            "cell_type": "markdown",
            "metadata": {},
            "source": "Set table columns and display Table"
        },
        {
            "cell_type": "code",
            "execution_count": null,
            "metadata": {
                "scrolled": true
            },
            "outputs": [],
            "source": "d = {'PostalCode': A,'Borough': B,'Neighborhood': C}\ndf=pd.DataFrame(data = d)\ndf"
        },
        {
            "cell_type": "markdown",
            "metadata": {},
            "source": "if the data in borough is not equal to \"Not assigned\" then set it to the dataframe\nGroup data with the same postal code and separate names with comma, and reset the indices"
        },
        {
            "cell_type": "code",
            "execution_count": null,
            "metadata": {},
            "outputs": [],
            "source": "df.groupby(['Borough','Neighborhood'])['PostalCode'].apply(','.join).reset_index()\n\ndf = df[df.Borough != 'Not assigned\\n']\ndf.reset_index(drop=True)"
        },
        {
            "cell_type": "markdown",
            "metadata": {},
            "source": "if data contains neighborhood with not assigned, assign it to the borough name\ndisplay the number of rows and columns : (rows,columns)"
        },
        {
            "cell_type": "code",
            "execution_count": null,
            "metadata": {},
            "outputs": [],
            "source": "df = df.groupby([\"PostalCode\", \"Borough\"], as_index=False).agg(lambda x: \", \".join(x))\ndf['Neighborhood'] = df['Neighborhood'].str.replace('\\n', '')\ndf['PostalCode'] = df['PostalCode'].str.replace('\\n', '')\ndf['Borough'] = df['Borough'].str.replace('\\n', '')\ndf"
        },
        {
            "cell_type": "code",
            "execution_count": null,
            "metadata": {},
            "outputs": [],
            "source": "print('(Rows, Columns)')\ndf.shape"
        },
        {
            "cell_type": "code",
            "execution_count": null,
            "metadata": {},
            "outputs": [],
            "source": "#Set up Foursquare credentials"
        },
        {
            "cell_type": "code",
            "execution_count": null,
            "metadata": {},
            "outputs": [],
            "source": "#CLIENT_ID = 'CJGPTSYMG5MZSWUK5YNWOGXKVWG1XMY0AMTXURFBQ5HD0TJU' # your Foursquare ID\n#CLIENT_SECRET = 'U0BPF2YTRSUC1CEZJJO1HG20WKR1BYIX3N2XA1DWKMMGWKZK' # your Foursquare Secret\n#VERSION = '20180604'\n#LIMIT = 30"
        },
        {
            "cell_type": "code",
            "execution_count": null,
            "metadata": {},
            "outputs": [],
            "source": "df"
        },
        {
            "cell_type": "markdown",
            "metadata": {},
            "source": "Import module to convert an address to latitude and longitude values"
        },
        {
            "cell_type": "code",
            "execution_count": null,
            "metadata": {
                "scrolled": false
            },
            "outputs": [],
            "source": "coords = pd.read_csv('https://cocl.us/Geospatial_data')\ncoords.head()"
        },
        {
            "cell_type": "code",
            "execution_count": null,
            "metadata": {
                "scrolled": true
            },
            "outputs": [],
            "source": "coords.rename(columns={'Postal Code':'PostalCode'},inplace=True)\ncoords.head()"
        },
        {
            "cell_type": "code",
            "execution_count": null,
            "metadata": {},
            "outputs": [],
            "source": "df.head()"
        },
        {
            "cell_type": "code",
            "execution_count": null,
            "metadata": {},
            "outputs": [],
            "source": "df.merge(coords, left_on='PostalCode',right_on='PostalCode',how='outer')"
        },
        {
            "cell_type": "markdown",
            "metadata": {},
            "source": "## Map of Toronto Area"
        },
        {
            "cell_type": "code",
            "execution_count": null,
            "metadata": {},
            "outputs": [],
            "source": "toronto = folium.Map(location=[43.651070,-79.347015],zoom_start=12)\n\nfor lat,lon,bor,neig in zip(df['Latitude'],df['Longitude'],df['Borough'],df['Neighbourhood']):\n    label = '{}, {}'.format(neig, bor)\n    label = folium.Popup(label, parse_html=True)\n    folium.CircleMarker(\n    [lat,lon],\n    radius=5,\n    popup=label,\n    color='red',\n    fill=True,\n    fill_color='#3186cc',\n    fill_opacity=0.7,\n    parse_html=False).add_to(toronto)\ntoronto"
        },
        {
            "cell_type": "code",
            "execution_count": null,
            "metadata": {},
            "outputs": [],
            "source": ""
        }
    ],
    "metadata": {
        "kernelspec": {
            "display_name": "Python 3.6",
            "language": "python",
            "name": "python3"
        }
    },
    "nbformat": 4,
    "nbformat_minor": 1
}